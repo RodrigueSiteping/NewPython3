{
 "cells": [
  {
   "cell_type": "code",
   "execution_count": 1,
   "id": "88443171",
   "metadata": {},
   "outputs": [
    {
     "name": "stdout",
     "output_type": "stream",
     "text": [
      "Hello World\n"
     ]
    }
   ],
   "source": [
    "print(\"Hello World\")"
   ]
  },
  {
   "cell_type": "markdown",
   "id": "7527f7eb",
   "metadata": {},
   "source": [
    "#Markdown Text in Jupyter Notebooks\n",
    "A Makdown cell in a Jupyter Notebook cell can contain any text that's formaatted with Markdown.\n",
    "Markdown is a relative simmple language for marking up test with healdings, lists, pictures, videos, and more. \n",
    "Below is a video from youtube that plays in this Notebook\n",
    "    \n",
    "[![Free Video](https://img.youtube.com/vi/ZcH0fUn2AtM/0.jpg).].\n",
    "(https://youtu.be/ZcH0fUn2AtM \"free Video\")\n",
    "\n",
    "https://www.youtube.com/watch?v=ZcH0fUn2AtM&feature=youtu.be&ab_channel=AlanSimpson"
   ]
  },
  {
   "cell_type": "code",
   "execution_count": null,
   "id": "46ccc46c",
   "metadata": {},
   "outputs": [],
   "source": []
  }
 ],
 "metadata": {
  "kernelspec": {
   "display_name": "Python 3 (ipykernel)",
   "language": "python",
   "name": "python3"
  },
  "language_info": {
   "codemirror_mode": {
    "name": "ipython",
    "version": 3
   },
   "file_extension": ".py",
   "mimetype": "text/x-python",
   "name": "python",
   "nbconvert_exporter": "python",
   "pygments_lexer": "ipython3",
   "version": "3.9.7"
  }
 },
 "nbformat": 4,
 "nbformat_minor": 5
}
